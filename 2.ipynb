{
  "nbformat": 4,
  "nbformat_minor": 0,
  "metadata": {
    "colab": {
      "name": "Untitled1.ipynb",
      "provenance": []
    },
    "kernelspec": {
      "name": "python3",
      "display_name": "Python 3"
    }
  },
  "cells": [
    {
      "cell_type": "code",
      "metadata": {
        "id": "R2M1K-rW8tGB",
        "outputId": "ae201995-c9f0-4f23-c8cd-24c0883e8f6c",
        "colab": {
          "base_uri": "https://localhost:8080/"
        }
      },
      "source": [
        "contador=0\n",
        "texto=input(\"Introduzca el texto a repetir\")\n",
        "numero=int(input(\"Introduzca el numero de veces a repetir el texto\"))\n",
        "while contador <=numero:\n",
        "  contador=contador +1\n",
        "  print(texto)\n",
        "print(\"El texto ha sido repetido\")\n",
        "\n"
      ],
      "execution_count": 1,
      "outputs": [
        {
          "output_type": "stream",
          "text": [
            "Introduzca el texto a repetirhola bb\n",
            "Introduzca el numero de veces a repetir el texto4\n",
            "hola bb\n",
            "hola bb\n",
            "hola bb\n",
            "hola bb\n",
            "hola bb\n",
            "El texto ha sido repetido\n"
          ],
          "name": "stdout"
        }
      ]
    }
  ]
}