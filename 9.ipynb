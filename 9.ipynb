{
  "nbformat": 4,
  "nbformat_minor": 0,
  "metadata": {
    "colab": {
      "name": "Untitled8.ipynb",
      "provenance": []
    },
    "kernelspec": {
      "name": "python3",
      "display_name": "Python 3"
    }
  },
  "cells": [
    {
      "cell_type": "code",
      "metadata": {
        "id": "ccHW755BMHwQ",
        "outputId": "c2d904a7-ee23-458b-c289-38bb10de1c95",
        "colab": {
          "base_uri": "https://localhost:8080/"
        }
      },
      "source": [
        "factorial=1\n",
        "print(\"Dame un numero\")\n",
        "x=eval (input())\n",
        "for i in range (1,x+1):\n",
        "    factorial=factorial*i\n",
        " \n",
        "print(factorial)"
      ],
      "execution_count": 1,
      "outputs": [
        {
          "output_type": "stream",
          "text": [
            "Dame un numero\n",
            "4\n",
            "24\n"
          ],
          "name": "stdout"
        }
      ]
    },
    {
      "cell_type": "code",
      "metadata": {
        "id": "VSRRLbwQSwd3",
        "outputId": "cce1bf7b-340d-43dd-86a5-eaf1e99e214c",
        "colab": {
          "base_uri": "https://localhost:8080/",
          "height": 129
        }
      },
      "source": [
        "print(\"Calculadora\")\n",
        "print(\"Menu\")\n",
        "reselt=\"\"\n",
        "while reselt!=\"no\":\n",
        "\n",
        "  Menu=[\"1. Suma\", \"2.Resta\", \"3.Multiplicación\", \"4.División\"]\n",
        "  print(Menu)\n",
        "  Print(\"Elija una opción del Menu\")\n",
        "  Menu= int(input())\n",
        "  while menu>=5:\n",
        "      print(\"Elija una opcion del menu\")\n",
        "              Menu= int(input())\n",
        "\n",
        "\n",
        "        if Menu==1:\n",
        "        print(\"Ingrese el primer valor\")\n",
        "        a= float(input())\n",
        "        print(\"Ingrese el segundo valor\")\n",
        "        b=float (input())\n",
        "        prin(\"La suma de\", a, \"y de\", b, \"es: \" ,a+b)\n",
        "\n",
        "        elif Menu=2\n",
        "        print(\"Ingrese el primer valor\")\n",
        "        a= float(input())\n",
        "        print(\"Ingrese el segundo valor\")\n",
        "        b=float (input())\n",
        "        prin(\"La resta de\", a, \"y de\", b, \"es: \" ,a-b)\n",
        "\n",
        "\n",
        "        elif menu= =3\n",
        "        print(\"Ingrese el primer valor\")\n",
        "        a= float(input())\n",
        "        print(\"Ingrese el segundo valor\")\n",
        "        b=float (input())\n",
        "        prin(\"La multplicación de\", a, \"y de\", b, \"es: \" ,a*b)\n",
        "\n",
        "        elif menu==4:\n",
        "          print(\"Ingrese el primer valor\")\n",
        "        a= float(input())\n",
        "        print(\"Ingrese el segundo valor\")\n",
        "        b=float (input())\n",
        "        prin(\"La división de\", a, \"y de\", b, \"es: \" ,a/b)\n",
        "      \n",
        "      print(\"¿Desea realizar otra operación?\")\n",
        "      reselt=input()\n",
        "\n",
        "    print(\"No mas operaciones realizadas\")\n",
        "  \n",
        "\n",
        "  \n"
      ],
      "execution_count": null,
      "outputs": [
        {
          "output_type": "error",
          "ename": "IndentationError",
          "evalue": "ignored",
          "traceback": [
            "\u001b[0;36m  File \u001b[0;32m\"<ipython-input-9-526702b43bc9>\"\u001b[0;36m, line \u001b[0;32m12\u001b[0m\n\u001b[0;31m    Menu= int(input())\u001b[0m\n\u001b[0m    ^\u001b[0m\n\u001b[0;31mIndentationError\u001b[0m\u001b[0;31m:\u001b[0m unexpected indent\n"
          ]
        }
      ]
    },
    {
      "cell_type": "code",
      "metadata": {
        "id": "c-CfXcFddhcl",
        "outputId": "59682185-8870-41e8-b7d0-dc82b9e62483",
        "colab": {
          "base_uri": "https://localhost:8080/",
          "height": 129
        }
      },
      "source": [
        "def calculate():\n",
        "    operation = input('''\n",
        "Please type in the math operation you would like to complete:\n",
        "+ SUMA\n",
        "- Resta\n",
        "* Multiplicación\n",
        "/ División\n",
        "''')\n",
        "    \n",
        "    if operation == '+':\n",
        "        print(\"Ingrese el primer valor\")\n",
        "        a= float(input())\n",
        "        print(\"Ingrese el segundo valor\")\n",
        "        b=float (input())\n",
        "        print(\"La suma de\", a, \"y de\", b, \"es: \" ,a-b)\n",
        "\n",
        "    elif operation == '-':\n",
        "          print(\"Ingrese el primer valor\")\n",
        "        a= float(input())\n",
        "        print(\"Ingrese el segundo valor\")\n",
        "        b=float (input())\n",
        "        prin(\"La resta de\", a, \"y de\", b, \"es: \" a-b)\n",
        "\n",
        "    elif operation == '*':\n",
        "           print(\"Ingrese el primer valor\")\n",
        "        a= float(input())\n",
        "        print(\"Ingrese el segundo valor\")\n",
        "        b=float (input())\n",
        "        prin(\"La multplicación de\", a, \"y de\", b, \"es: \" a*b)\n",
        "\n",
        "\n",
        "    elif operation == '/':\n",
        "          print(\"Ingrese el primer valor\")\n",
        "        a= float(input())\n",
        "        print(\"Ingrese el segundo valor\")\n",
        "        b=float (input())\n",
        "        prin(\"La división de\", a, \"y de\", b, \"es: \" a/b)\n",
        "\n",
        "        else:\n",
        "        print('You have not typed a valid operator, please run the program again.')\n",
        " \n",
        "    again()\n",
        " \n",
        "def again():\n",
        "    calc_again = input('''\n",
        "Do you want to calculate again?\n",
        "Please type Y for YES or N for NO.\n",
        "''')\n",
        " \n",
        "    if calc_again.upper() == 'Y':\n",
        "        calculate()\n",
        "    elif calc_again.upper() == 'N':\n",
        "        print('See you later.')\n",
        "    else:\n",
        "        again()\n",
        " \n",
        "calculate()\n"
      ],
      "execution_count": null,
      "outputs": [
        {
          "output_type": "error",
          "ename": "IndentationError",
          "evalue": "ignored",
          "traceback": [
            "\u001b[0;36m  File \u001b[0;32m\"<ipython-input-14-4369659d4fe7>\"\u001b[0;36m, line \u001b[0;32m19\u001b[0m\n\u001b[0;31m    a= float(input())\u001b[0m\n\u001b[0m                     ^\u001b[0m\n\u001b[0;31mIndentationError\u001b[0m\u001b[0;31m:\u001b[0m unindent does not match any outer indentation level\n"
          ]
        }
      ]
    }
  ]
}