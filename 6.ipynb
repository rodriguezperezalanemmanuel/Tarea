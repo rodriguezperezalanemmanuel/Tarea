{
  "nbformat": 4,
  "nbformat_minor": 0,
  "metadata": {
    "colab": {
      "name": "Untitled13.ipynb",
      "provenance": []
    },
    "kernelspec": {
      "name": "python3",
      "display_name": "Python 3"
    }
  },
  "cells": [
    {
      "cell_type": "code",
      "metadata": {
        "id": "0d7amxSfrwU9",
        "outputId": "2bde2712-f374-4b1d-cde6-f639f98e74bd",
        "colab": {
          "base_uri": "https://localhost:8080/"
        }
      },
      "source": [
        "print(\"Ingrese su salario\")\n",
        "salario=int(input())\n",
        "if salario<=10000:\n",
        "  print(\"El impuesto correspondido es del 5%\")\n",
        "  descuento=(salario*0.05)\n",
        "  x=(salario - descuento)\n",
        "  print(\"El salario final es:\", x)\n",
        "  print(salario<=15000)\n",
        "elif salario<=10000:\n",
        "  print(\"El impuesto correspondido es del 10%\")\n",
        "  descuento=(salario*0.10)\n",
        "  x=(salario - descuento)\n",
        "  print(\"El salario final es:\", x)\n",
        "  print(salario<=15000)\n",
        "elif salario<=20000:\n",
        "  print(\"El impuesto correspondido es del 15%\")\n",
        "  descuento=(salario*0.15)\n",
        "  x=(salario - descuento)\n",
        "  print(\"El salario final es:\", x)\n",
        "  print(salario<=20000)\n",
        "elif salario>20000:\n",
        "  print(\"El impuesto correspondido es del 18%\")\n",
        "  descuento=(salario*0.18)\n",
        "  x=(salario - descuento)\n",
        "  print(\"El salario final es:\", x)\n",
        "  print(salario>20000)\n",
        " \n",
        " \n",
        "\n",
        "\n"
      ],
      "execution_count": 1,
      "outputs": [
        {
          "output_type": "stream",
          "text": [
            "Ingrese su salario\n",
            "4000\n",
            "El impuesto correspondido es del 5%\n",
            "El salario final es: 3800.0\n",
            "True\n"
          ],
          "name": "stdout"
        }
      ]
    }
  ]
}