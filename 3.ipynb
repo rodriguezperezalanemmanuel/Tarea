{
  "nbformat": 4,
  "nbformat_minor": 0,
  "metadata": {
    "colab": {
      "name": "Untitled2.ipynb",
      "provenance": []
    },
    "kernelspec": {
      "name": "python3",
      "display_name": "Python 3"
    }
  },
  "cells": [
    {
      "cell_type": "code",
      "metadata": {
        "id": "rJBaUfRNKK5h",
        "outputId": "70a9fd65-cab8-49ef-fd34-bff0cbffe945",
        "colab": {
          "base_uri": "https://localhost:8080/"
        }
      },
      "source": [
        "horas= int(input(\"horas trabajadas\"))\n",
        "a=int(150)\n",
        "dia=print(\"Por un día gano\", horas*a)\n",
        "semana= print(\"por una semana gano\", horas*a*5)\n",
        "mes= print(\"Por un mes gano\" , horas*a*20)\n"
      ],
      "execution_count": 1,
      "outputs": [
        {
          "output_type": "stream",
          "text": [
            "horas trabajadas5\n",
            "Por un día gano 750\n",
            "por una semana gano 3750\n",
            "Por un mes gano 15000\n"
          ],
          "name": "stdout"
        }
      ]
    }
  ]
}