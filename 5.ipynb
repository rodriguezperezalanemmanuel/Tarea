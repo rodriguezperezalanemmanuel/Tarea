{
  "nbformat": 4,
  "nbformat_minor": 0,
  "metadata": {
    "colab": {
      "name": "Untitled14.ipynb",
      "provenance": []
    },
    "kernelspec": {
      "name": "python3",
      "display_name": "Python 3"
    }
  },
  "cells": [
    {
      "cell_type": "code",
      "metadata": {
        "id": "4MpMhgZJyAi0",
        "outputId": "158e40aa-dced-4fcd-c007-c83347909a6d",
        "colab": {
          "base_uri": "https://localhost:8080/"
        }
      },
      "source": [
        "print(\"Calcular peso de juguetes\")\n",
        "payaso=150\n",
        "jdmesa=170\n",
        "total=100000\n",
        "while  total >100000:\n",
        "  print(\"Ingrese el numero de payasos:\")\n",
        "  p=int(input())\n",
        "  print(\"Ingrese el numero de numeros de juegos de mesa:\")\n",
        "  m=int(input())\n",
        "  total=(((payasos*p)+(jdmesa*m)))\n",
        "  print(\"El peso total de los juguetes es:\", total)\n",
        "  if (total>=100000):\n",
        "    Extra=print(\"Se paso de peso por:\", total-100000)"
      ],
      "execution_count": 15,
      "outputs": [
        {
          "output_type": "stream",
          "text": [
            "Calcular peso de juguetes\n"
          ],
          "name": "stdout"
        }
      ]
    },
    {
      "cell_type": "code",
      "metadata": {
        "id": "aWr8UJjK5MVk",
        "outputId": "116858e3-5bf5-4b9d-e004-03eddfc28f67",
        "colab": {
          "base_uri": "https://localhost:8080/"
        }
      },
      "source": [
        "print(\"Calcular peso de juguetes\")\n",
        "payaso=150\n",
        "jdmesa=170\n",
        "total=100000\n",
        "while  total >10000:\n",
        "  print(\"Ingrese el numero de payasos:\")\n",
        "  p=int(input())\n",
        "  print(\"Ingrese el numero de numeros de juegos de mesa:\")\n",
        "  m=int(input())\n",
        "  total=((payaso*p)+(jdmesa*m))\n",
        "  print(\"El peso total de los juguetes es:\", total)\n",
        "  if (total>=100000):\n",
        "    Extra=print(\"Se paso de peso por:\", total-100000)"
      ],
      "execution_count": null,
      "outputs": [
        {
          "output_type": "stream",
          "text": [
            "Calcular peso de juguetes\n",
            "Ingrese el numero de payasos:\n"
          ],
          "name": "stdout"
        }
      ]
    }
  ]
}