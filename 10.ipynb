{
  "nbformat": 4,
  "nbformat_minor": 0,
  "metadata": {
    "colab": {
      "name": "Untitled12.ipynb",
      "provenance": []
    },
    "kernelspec": {
      "name": "python3",
      "display_name": "Python 3"
    }
  },
  "cells": [
    {
      "cell_type": "code",
      "metadata": {
        "id": "ZTYVns0upS4t",
        "outputId": "4ea5eba5-166a-499a-f224-7aa032d40771",
        "colab": {
          "base_uri": "https://localhost:8080/"
        }
      },
      "source": [
        "print(\"Ingrese el radio del circulo\")\n",
        "r=float(input())\n",
        "pi=3.1416\n",
        "a=(pi*(r**2))\n",
        "print(\"EL area del circulo es:\", a)\n",
        "h=float(input(\"Ingrese la altura del cilindro:\"))\n",
        "v=a*h\n",
        "print(\"El volumen del cilindro es:\", v)"
      ],
      "execution_count": 1,
      "outputs": [
        {
          "output_type": "stream",
          "text": [
            "Ingrese el radio del circulo\n",
            "15\n",
            "EL area del circulo es: 706.86\n",
            "Ingrese la altura del cilindro:5\n",
            "El volumen del cilindro es: 3534.3\n"
          ],
          "name": "stdout"
        }
      ]
    }
  ]
}