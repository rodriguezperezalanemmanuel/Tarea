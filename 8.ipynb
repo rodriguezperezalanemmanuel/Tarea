{
  "nbformat": 4,
  "nbformat_minor": 0,
  "metadata": {
    "colab": {
      "name": "Untitled11.ipynb",
      "provenance": []
    },
    "kernelspec": {
      "name": "python3",
      "display_name": "Python 3"
    }
  },
  "cells": [
    {
      "cell_type": "code",
      "metadata": {
        "id": "KXe1NvmlhBMJ",
        "outputId": "6c359996-41a8-43b4-92d0-e0108d854e18",
        "colab": {
          "base_uri": "https://localhost:8080/"
        }
      },
      "source": [
        "n = int(input(\"Introduce un número: \"))\n",
        "for i in range(1, n+1):\n",
        "  print(\"\")\n",
        "  for j in range(1, i+1):\n",
        "      print(\"*\", end=\"\")\n",
        "\n",
        "\n"
      ],
      "execution_count": 13,
      "outputs": [
        {
          "output_type": "stream",
          "text": [
            "Introduce un número: 5\n",
            "\n",
            "*\n",
            "**\n",
            "***\n",
            "****\n",
            "*****"
          ],
          "name": "stdout"
        }
      ]
    },
    {
      "cell_type": "code",
      "metadata": {
        "id": "L0jnafq1j_VS"
      },
      "source": [
        "a=int(input(\"Introducir un numero de renglones: \"))\n"
      ],
      "execution_count": null,
      "outputs": []
    }
  ]
}